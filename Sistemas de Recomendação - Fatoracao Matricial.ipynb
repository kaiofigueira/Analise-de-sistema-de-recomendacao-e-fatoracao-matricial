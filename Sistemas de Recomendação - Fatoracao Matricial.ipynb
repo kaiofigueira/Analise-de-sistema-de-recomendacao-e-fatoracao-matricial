{
 "cells": [
  {
   "cell_type": "markdown",
   "metadata": {},
   "source": [
    "Informações importantes: \n",
    "\n",
    "1- Os valores NaN representam filmes que ainda não foram avaliados pelos usuários."
   ]
  },
  {
   "cell_type": "code",
   "execution_count": 2,
   "metadata": {},
   "outputs": [],
   "source": [
    "import pandas as pd\n",
    "import numpy as np\n",
    "import matplotlib.pyplot as plt"
   ]
  },
  {
   "cell_type": "code",
   "execution_count": 3,
   "metadata": {},
   "outputs": [],
   "source": [
    "def getData():\n",
    "    r_cols = ['user_id', 'movie_id', 'rating', 'unix_timestamp']\n",
    "    ratings = pd.read_csv('u.data', sep='\\t', names=r_cols,\n",
    "                          encoding='latin-1')\n",
    "    m_cols = ['movie_id', 'title', 'release_date', 'video_release_date', 'imdb_url']\n",
    "    movies = pd.read_csv('u.item', sep='|', names=m_cols, usecols=range(5),\n",
    "                         encoding='latin-1')\n",
    "    movie_ratings = pd.merge(movies, ratings)\n",
    "    temp = movie_ratings[['movie_id', 'user_id', 'rating']].copy()\n",
    "    temp = temp.pivot_table(columns='movie_id', index='user_id', values='rating').copy()\n",
    "    temp.index = ['User_'+str(int(i)) for i in temp.index]\n",
    "    temp.columns = ['Filme_'+str(int(i)) for i in temp.columns]\n",
    "    qtd_cols = 80\n",
    "    R = temp.iloc[:, :qtd_cols]\n",
    "    l=[]\n",
    "    for i in range(1, R.shape[0]+1):\n",
    "        if R.iloc[i-1, ].isnull().sum() >= (qtd_cols - 10):\n",
    "            l.append(i)\n",
    "    R = R.drop([\"User_\"+str(r) for r in l])\n",
    "    R.index = ['User_'+str(int(i)) for i in range(R.shape[0])]\n",
    "    return R"
   ]
  },
  {
   "cell_type": "code",
   "execution_count": 4,
   "metadata": {},
   "outputs": [],
   "source": [
    "import time\n",
    "\n",
    "class MatrixFactorization():\n",
    "    \n",
    "    def __init__(self, dataframe, K, steps, alpha, beta):\n",
    "        self.df = dataframe\n",
    "        self.K = K\n",
    "        self.steps = steps\n",
    "        self.alpha = alpha\n",
    "        self.beta = beta\n",
    "        \n",
    "    def fit(self):\n",
    "        t0 = time.time()\n",
    "        \n",
    "        R = self.df.values\n",
    "        N, M = R.shape\n",
    "        \n",
    "        #inicio aleatorio\n",
    "        P = np.random.rand(N,self.K)\n",
    "        Q = np.random.rand(self.K,M)\n",
    "        \n",
    "        lista_erro_step = []\n",
    "        \n",
    "        #loop\n",
    "        for step in range(self.steps):\n",
    "            \n",
    "            mse_total_step = 0\n",
    "            #varrendo todas as entradas da matriz R\n",
    "            for i in range(len(R)):\n",
    "                for j in range(len(R[i])):\n",
    "                    #validando se o valor associado está preenchido\n",
    "                    if R[i][j] > 0:\n",
    "\n",
    "                        #calculando o erro:\n",
    "                        eij = R[i][j] - np.dot(P[i,:],Q[:,j])\n",
    "                        mse_total_step += (eij)**2\n",
    "                        #alterando os valores\n",
    "                        for k in range(self.K):\n",
    "                            P[i][k] = P[i][k] + self.alpha * ( 2 * eij * Q[k][j] - self.beta * P[i][k])\n",
    "                            Q[k][j] = Q[k][j] + self.alpha * ( 2 * eij * P[i][k] - self.beta * Q[k][j])\n",
    "                            \n",
    "            lista_erro_step.append(mse_total_step)\n",
    "            \n",
    "        self.P = P\n",
    "        self.Q = Q\n",
    "        self.lista_erro_step = lista_erro_step\n",
    "        t1 = time.time()\n",
    "        print(\"Fatoração concluída. Tempo aproximado:\", int((t1-t0)/60)+1, 'minuto(s).')\n",
    "        \n",
    "    def predict(self):\n",
    "        return self.P.dot(self.Q)\n",
    "    \n",
    "    def print_MSE_steps(self):\n",
    "        plt.figure(figsize=[15,6])\n",
    "        plt.title(\"Custo total por Step\", fontsize = 16, fontweight = 'bold')\n",
    "        plt.xlabel(\"Step\", fontsize = 14, fontweight = 'bold')\n",
    "        plt.ylabel(\"Erro\", fontsize = 14, fontweight = 'bold')\n",
    "        plt.plot(range(1, 1+self.steps), self.lista_erro_step, c = 'blue', lw = 2)\n",
    "        plt.grid()\n",
    "        plt.show()"
   ]
  },
  {
   "cell_type": "markdown",
   "metadata": {},
   "source": [
    "<br>\n",
    "\n",
    "Tradicionalmente, para avaliarmos a performance de algoritmos de machine learning, fazemos a divisão dos dados em treino/teste; os dados de teste são utilizados no modelo final, apenas para validar que o mesmo não está sofrendo overfitting e está generalizando bem.\n",
    "\n",
    "No contexto dos filtros colaborativos, tal divisão dos dados não fará sentido: os métodos discutidos (de filtragem colaborativa) usam as informações de interação dos usuários com itens para \"preencher os valores faltantes\" da matriz de interação. Esse preenchimento é justamente a recomendação!\n",
    "\n",
    "<br>\n",
    "\n",
    "No entanto, podemos aplicar uma __metodologia que \"simula\" dados de treino/teste.__ \n",
    "\n",
    "Essencialmente, essa metodologia consiste de criar uma base de treino em que retiramos algumas interações dos usuários. Dessa forma, os modelos irão aprender os padrões dos dados sem terem acesso a toda informação.\n",
    "\n",
    "Nos dados de teste, usaremos essas interações retiradas em treino para avaliar os resultados.\n",
    "\n",
    "<br>\n",
    "\n",
    "__Considere o exemplo:__\n",
    "\n",
    "Vamos carregar, novamente, o dataset que usamos ao longo do módulo:"
   ]
  },
  {
   "cell_type": "code",
   "execution_count": 5,
   "metadata": {},
   "outputs": [],
   "source": [
    "def getDF():\n",
    "    dic__ = {\"User_1\":[np.nan, np.nan, np.nan, 1, 7, 2, 3, 8],\n",
    "         \"User_2\":[9,10,2,2,6,5,3,8],\n",
    "         \"User_3\":[4, 7, 9, 6,6,10,10,2],\n",
    "         \"User_4\":[np.nan, 7, 9, 5, 5, 10, 9, 1],\n",
    "         \"User_5\":[7.0,6.0,3.0,8.0,3,4.0,3.0, 2],\n",
    "         \"User_6\":[np.nan, np.nan, 9, 9,6,8,9,np.nan],\n",
    "         \"User_7\":[3,5,4,4,3,3,9,np.nan],\n",
    "         \"User_8\":[10,10,10,10,2,2,2,2],\n",
    "         \"User_9\":[9,9,np.nan,8,3,3,1,np.nan],\n",
    "         \"User_10\":[9,8,10,9,3,4,2,1],\n",
    "         \"User_11\":[4,4,3,3,9,9,8,10],\n",
    "         \"User_12\":[2,2,4,1,8,10,10,9],\n",
    "         \"User_13\":[1,4,1,3,7,10,7,8],\n",
    "         \"User_14\":[3,3,2,1,1,10, np.nan,10],\n",
    "         \"User_15\":[9,9,8,10,4,2,np.nan,1]\n",
    "        }\n",
    "    df = pd.DataFrame(dic__).T\n",
    "    df.columns = ['Filme_'+str(int(i+1)) for i in range(8)]\n",
    "    return df"
   ]
  },
  {
   "cell_type": "code",
   "execution_count": 6,
   "metadata": {},
   "outputs": [
    {
     "data": {
      "text/html": [
       "<div>\n",
       "<style scoped>\n",
       "    .dataframe tbody tr th:only-of-type {\n",
       "        vertical-align: middle;\n",
       "    }\n",
       "\n",
       "    .dataframe tbody tr th {\n",
       "        vertical-align: top;\n",
       "    }\n",
       "\n",
       "    .dataframe thead th {\n",
       "        text-align: right;\n",
       "    }\n",
       "</style>\n",
       "<table border=\"1\" class=\"dataframe\">\n",
       "  <thead>\n",
       "    <tr style=\"text-align: right;\">\n",
       "      <th></th>\n",
       "      <th>Filme_1</th>\n",
       "      <th>Filme_2</th>\n",
       "      <th>Filme_3</th>\n",
       "      <th>Filme_4</th>\n",
       "      <th>Filme_5</th>\n",
       "      <th>Filme_6</th>\n",
       "      <th>Filme_7</th>\n",
       "      <th>Filme_8</th>\n",
       "    </tr>\n",
       "  </thead>\n",
       "  <tbody>\n",
       "    <tr>\n",
       "      <th>User_1</th>\n",
       "      <td>NaN</td>\n",
       "      <td>NaN</td>\n",
       "      <td>NaN</td>\n",
       "      <td>1.0</td>\n",
       "      <td>7.0</td>\n",
       "      <td>2.0</td>\n",
       "      <td>3.0</td>\n",
       "      <td>8.0</td>\n",
       "    </tr>\n",
       "    <tr>\n",
       "      <th>User_2</th>\n",
       "      <td>9.0</td>\n",
       "      <td>10.0</td>\n",
       "      <td>2.0</td>\n",
       "      <td>2.0</td>\n",
       "      <td>6.0</td>\n",
       "      <td>5.0</td>\n",
       "      <td>3.0</td>\n",
       "      <td>8.0</td>\n",
       "    </tr>\n",
       "    <tr>\n",
       "      <th>User_3</th>\n",
       "      <td>4.0</td>\n",
       "      <td>7.0</td>\n",
       "      <td>9.0</td>\n",
       "      <td>6.0</td>\n",
       "      <td>6.0</td>\n",
       "      <td>10.0</td>\n",
       "      <td>10.0</td>\n",
       "      <td>2.0</td>\n",
       "    </tr>\n",
       "    <tr>\n",
       "      <th>User_4</th>\n",
       "      <td>NaN</td>\n",
       "      <td>7.0</td>\n",
       "      <td>9.0</td>\n",
       "      <td>5.0</td>\n",
       "      <td>5.0</td>\n",
       "      <td>10.0</td>\n",
       "      <td>9.0</td>\n",
       "      <td>1.0</td>\n",
       "    </tr>\n",
       "    <tr>\n",
       "      <th>User_5</th>\n",
       "      <td>7.0</td>\n",
       "      <td>6.0</td>\n",
       "      <td>3.0</td>\n",
       "      <td>8.0</td>\n",
       "      <td>3.0</td>\n",
       "      <td>4.0</td>\n",
       "      <td>3.0</td>\n",
       "      <td>2.0</td>\n",
       "    </tr>\n",
       "    <tr>\n",
       "      <th>User_6</th>\n",
       "      <td>NaN</td>\n",
       "      <td>NaN</td>\n",
       "      <td>9.0</td>\n",
       "      <td>9.0</td>\n",
       "      <td>6.0</td>\n",
       "      <td>8.0</td>\n",
       "      <td>9.0</td>\n",
       "      <td>NaN</td>\n",
       "    </tr>\n",
       "    <tr>\n",
       "      <th>User_7</th>\n",
       "      <td>3.0</td>\n",
       "      <td>5.0</td>\n",
       "      <td>4.0</td>\n",
       "      <td>4.0</td>\n",
       "      <td>3.0</td>\n",
       "      <td>3.0</td>\n",
       "      <td>9.0</td>\n",
       "      <td>NaN</td>\n",
       "    </tr>\n",
       "    <tr>\n",
       "      <th>User_8</th>\n",
       "      <td>10.0</td>\n",
       "      <td>10.0</td>\n",
       "      <td>10.0</td>\n",
       "      <td>10.0</td>\n",
       "      <td>2.0</td>\n",
       "      <td>2.0</td>\n",
       "      <td>2.0</td>\n",
       "      <td>2.0</td>\n",
       "    </tr>\n",
       "    <tr>\n",
       "      <th>User_9</th>\n",
       "      <td>9.0</td>\n",
       "      <td>9.0</td>\n",
       "      <td>NaN</td>\n",
       "      <td>8.0</td>\n",
       "      <td>3.0</td>\n",
       "      <td>3.0</td>\n",
       "      <td>1.0</td>\n",
       "      <td>NaN</td>\n",
       "    </tr>\n",
       "    <tr>\n",
       "      <th>User_10</th>\n",
       "      <td>9.0</td>\n",
       "      <td>8.0</td>\n",
       "      <td>10.0</td>\n",
       "      <td>9.0</td>\n",
       "      <td>3.0</td>\n",
       "      <td>4.0</td>\n",
       "      <td>2.0</td>\n",
       "      <td>1.0</td>\n",
       "    </tr>\n",
       "    <tr>\n",
       "      <th>User_11</th>\n",
       "      <td>4.0</td>\n",
       "      <td>4.0</td>\n",
       "      <td>3.0</td>\n",
       "      <td>3.0</td>\n",
       "      <td>9.0</td>\n",
       "      <td>9.0</td>\n",
       "      <td>8.0</td>\n",
       "      <td>10.0</td>\n",
       "    </tr>\n",
       "    <tr>\n",
       "      <th>User_12</th>\n",
       "      <td>2.0</td>\n",
       "      <td>2.0</td>\n",
       "      <td>4.0</td>\n",
       "      <td>1.0</td>\n",
       "      <td>8.0</td>\n",
       "      <td>10.0</td>\n",
       "      <td>10.0</td>\n",
       "      <td>9.0</td>\n",
       "    </tr>\n",
       "    <tr>\n",
       "      <th>User_13</th>\n",
       "      <td>1.0</td>\n",
       "      <td>4.0</td>\n",
       "      <td>1.0</td>\n",
       "      <td>3.0</td>\n",
       "      <td>7.0</td>\n",
       "      <td>10.0</td>\n",
       "      <td>7.0</td>\n",
       "      <td>8.0</td>\n",
       "    </tr>\n",
       "    <tr>\n",
       "      <th>User_14</th>\n",
       "      <td>3.0</td>\n",
       "      <td>3.0</td>\n",
       "      <td>2.0</td>\n",
       "      <td>1.0</td>\n",
       "      <td>1.0</td>\n",
       "      <td>10.0</td>\n",
       "      <td>NaN</td>\n",
       "      <td>10.0</td>\n",
       "    </tr>\n",
       "    <tr>\n",
       "      <th>User_15</th>\n",
       "      <td>9.0</td>\n",
       "      <td>9.0</td>\n",
       "      <td>8.0</td>\n",
       "      <td>10.0</td>\n",
       "      <td>4.0</td>\n",
       "      <td>2.0</td>\n",
       "      <td>NaN</td>\n",
       "      <td>1.0</td>\n",
       "    </tr>\n",
       "  </tbody>\n",
       "</table>\n",
       "</div>"
      ],
      "text/plain": [
       "         Filme_1  Filme_2  Filme_3  Filme_4  Filme_5  Filme_6  Filme_7  \\\n",
       "User_1       NaN      NaN      NaN      1.0      7.0      2.0      3.0   \n",
       "User_2       9.0     10.0      2.0      2.0      6.0      5.0      3.0   \n",
       "User_3       4.0      7.0      9.0      6.0      6.0     10.0     10.0   \n",
       "User_4       NaN      7.0      9.0      5.0      5.0     10.0      9.0   \n",
       "User_5       7.0      6.0      3.0      8.0      3.0      4.0      3.0   \n",
       "User_6       NaN      NaN      9.0      9.0      6.0      8.0      9.0   \n",
       "User_7       3.0      5.0      4.0      4.0      3.0      3.0      9.0   \n",
       "User_8      10.0     10.0     10.0     10.0      2.0      2.0      2.0   \n",
       "User_9       9.0      9.0      NaN      8.0      3.0      3.0      1.0   \n",
       "User_10      9.0      8.0     10.0      9.0      3.0      4.0      2.0   \n",
       "User_11      4.0      4.0      3.0      3.0      9.0      9.0      8.0   \n",
       "User_12      2.0      2.0      4.0      1.0      8.0     10.0     10.0   \n",
       "User_13      1.0      4.0      1.0      3.0      7.0     10.0      7.0   \n",
       "User_14      3.0      3.0      2.0      1.0      1.0     10.0      NaN   \n",
       "User_15      9.0      9.0      8.0     10.0      4.0      2.0      NaN   \n",
       "\n",
       "         Filme_8  \n",
       "User_1       8.0  \n",
       "User_2       8.0  \n",
       "User_3       2.0  \n",
       "User_4       1.0  \n",
       "User_5       2.0  \n",
       "User_6       NaN  \n",
       "User_7       NaN  \n",
       "User_8       2.0  \n",
       "User_9       NaN  \n",
       "User_10      1.0  \n",
       "User_11     10.0  \n",
       "User_12      9.0  \n",
       "User_13      8.0  \n",
       "User_14     10.0  \n",
       "User_15      1.0  "
      ]
     },
     "execution_count": 6,
     "metadata": {},
     "output_type": "execute_result"
    }
   ],
   "source": [
    "df = getDF()\n",
    "df"
   ]
  },
  {
   "cell_type": "markdown",
   "metadata": {},
   "source": [
    "<br>\n",
    "\n",
    "Abaixo, criamos o array \"ratings\", que consiste de nossa matriz de interação usuário/item. No entanto, fizemos um completamento com \"0\" nos dados faltantes. Dessa forma, o rating = 0 significa que o usuário não avaliou o filme em questão.\n",
    "\n",
    "<br>"
   ]
  },
  {
   "cell_type": "code",
   "execution_count": 6,
   "metadata": {},
   "outputs": [
    {
     "data": {
      "text/plain": [
       "array([[ 0.,  0.,  0.,  1.,  7.,  2.,  3.,  8.],\n",
       "       [ 9., 10.,  2.,  2.,  6.,  5.,  3.,  8.],\n",
       "       [ 4.,  7.,  9.,  6.,  6., 10., 10.,  2.],\n",
       "       [ 0.,  7.,  9.,  5.,  5., 10.,  9.,  1.],\n",
       "       [ 7.,  6.,  3.,  8.,  3.,  4.,  3.,  2.],\n",
       "       [ 0.,  0.,  9.,  9.,  6.,  8.,  9.,  0.],\n",
       "       [ 3.,  5.,  4.,  4.,  3.,  3.,  9.,  0.],\n",
       "       [10., 10., 10., 10.,  2.,  2.,  2.,  2.],\n",
       "       [ 9.,  9.,  0.,  8.,  3.,  3.,  1.,  0.],\n",
       "       [ 9.,  8., 10.,  9.,  3.,  4.,  2.,  1.],\n",
       "       [ 4.,  4.,  3.,  3.,  9.,  9.,  8., 10.],\n",
       "       [ 2.,  2.,  4.,  1.,  8., 10., 10.,  9.],\n",
       "       [ 1.,  4.,  1.,  3.,  7., 10.,  7.,  8.],\n",
       "       [ 3.,  3.,  2.,  1.,  1., 10.,  0., 10.],\n",
       "       [ 9.,  9.,  8., 10.,  4.,  2.,  0.,  1.]])"
      ]
     },
     "execution_count": 6,
     "metadata": {},
     "output_type": "execute_result"
    }
   ],
   "source": [
    "ratings = df.fillna(0).values\n",
    "ratings"
   ]
  },
  {
   "cell_type": "markdown",
   "metadata": {},
   "source": [
    "<br>\n",
    "\n",
    "Na sequência, apresentamos a função que faz a divisão dos dados em treino e teste.\n",
    "\n",
    "<br>"
   ]
  },
  {
   "cell_type": "code",
   "execution_count": 8,
   "metadata": {},
   "outputs": [],
   "source": [
    "def train_test_split(ratings, qtd):\n",
    "    test = np.zeros(ratings.shape)\n",
    "    train = ratings.copy()\n",
    "    for user in range(ratings.shape[0]):\n",
    "        test_ratings = np.random.choice(ratings[user, :].nonzero()[0], \n",
    "                                        size=qtd, \n",
    "                                        replace=False)\n",
    "        train[user, test_ratings] = 0.\n",
    "        test[user, test_ratings] = ratings[user, test_ratings]\n",
    "        \n",
    "    return train, test"
   ]
  },
  {
   "cell_type": "code",
   "execution_count": 8,
   "metadata": {},
   "outputs": [],
   "source": [
    "train, test = train_test_split(ratings, qtd = 2)"
   ]
  },
  {
   "cell_type": "markdown",
   "metadata": {},
   "source": [
    "<br>\n",
    "\n",
    "__Vamos comparar os dados de treino e teste com os dados originais:__\n",
    "    \n",
    "<br>"
   ]
  },
  {
   "cell_type": "code",
   "execution_count": 9,
   "metadata": {},
   "outputs": [
    {
     "data": {
      "text/plain": [
       "array([[ 0.,  0.,  0.,  1.,  7.,  2.,  3.,  8.],\n",
       "       [ 9., 10.,  2.,  2.,  6.,  5.,  3.,  8.],\n",
       "       [ 4.,  7.,  9.,  6.,  6., 10., 10.,  2.],\n",
       "       [ 0.,  7.,  9.,  5.,  5., 10.,  9.,  1.],\n",
       "       [ 7.,  6.,  3.,  8.,  3.,  4.,  3.,  2.],\n",
       "       [ 0.,  0.,  9.,  9.,  6.,  8.,  9.,  0.],\n",
       "       [ 3.,  5.,  4.,  4.,  3.,  3.,  9.,  0.],\n",
       "       [10., 10., 10., 10.,  2.,  2.,  2.,  2.],\n",
       "       [ 9.,  9.,  0.,  8.,  3.,  3.,  1.,  0.],\n",
       "       [ 9.,  8., 10.,  9.,  3.,  4.,  2.,  1.],\n",
       "       [ 4.,  4.,  3.,  3.,  9.,  9.,  8., 10.],\n",
       "       [ 2.,  2.,  4.,  1.,  8., 10., 10.,  9.],\n",
       "       [ 1.,  4.,  1.,  3.,  7., 10.,  7.,  8.],\n",
       "       [ 3.,  3.,  2.,  1.,  1., 10.,  0., 10.],\n",
       "       [ 9.,  9.,  8., 10.,  4.,  2.,  0.,  1.]])"
      ]
     },
     "execution_count": 9,
     "metadata": {},
     "output_type": "execute_result"
    }
   ],
   "source": [
    "#matriz de interação - original;\n",
    "\n",
    "ratings"
   ]
  },
  {
   "cell_type": "code",
   "execution_count": 10,
   "metadata": {},
   "outputs": [
    {
     "data": {
      "text/plain": [
       "array([[ 0.,  0.,  0.,  1.,  0.,  0.,  3.,  8.],\n",
       "       [ 9., 10.,  2.,  2.,  0.,  5.,  0.,  8.],\n",
       "       [ 0.,  7.,  9.,  0.,  6., 10., 10.,  2.],\n",
       "       [ 0.,  7.,  0.,  0.,  5., 10.,  9.,  1.],\n",
       "       [ 7.,  6.,  3.,  0.,  3.,  0.,  3.,  2.],\n",
       "       [ 0.,  0.,  9.,  0.,  0.,  8.,  9.,  0.],\n",
       "       [ 3.,  0.,  4.,  4.,  3.,  3.,  0.,  0.],\n",
       "       [10., 10.,  0., 10.,  2.,  2.,  0.,  2.],\n",
       "       [ 9.,  9.,  0.,  0.,  3.,  0.,  1.,  0.],\n",
       "       [ 9.,  0., 10.,  9.,  0.,  4.,  2.,  1.],\n",
       "       [ 4.,  4.,  0.,  0.,  9.,  9.,  8., 10.],\n",
       "       [ 2.,  0.,  0.,  1.,  8., 10., 10.,  9.],\n",
       "       [ 1.,  4.,  1.,  0.,  7.,  0.,  7.,  8.],\n",
       "       [ 0.,  3.,  2.,  1.,  1., 10.,  0.,  0.],\n",
       "       [ 0.,  9.,  8., 10.,  4.,  0.,  0.,  1.]])"
      ]
     },
     "execution_count": 10,
     "metadata": {},
     "output_type": "execute_result"
    }
   ],
   "source": [
    "#dados de treino;\n",
    "#observe que, para cada usuário (ou seja, para cada linha) 3 notas foram retiradas!! \n",
    "#ou seja, foram substituida por 0.\n",
    "\n",
    "train"
   ]
  },
  {
   "cell_type": "code",
   "execution_count": 11,
   "metadata": {},
   "outputs": [
    {
     "data": {
      "text/plain": [
       "array([[ 0.,  0.,  0.,  0.,  7.,  2.,  0.,  0.],\n",
       "       [ 0.,  0.,  0.,  0.,  6.,  0.,  3.,  0.],\n",
       "       [ 4.,  0.,  0.,  6.,  0.,  0.,  0.,  0.],\n",
       "       [ 0.,  0.,  9.,  5.,  0.,  0.,  0.,  0.],\n",
       "       [ 0.,  0.,  0.,  8.,  0.,  4.,  0.,  0.],\n",
       "       [ 0.,  0.,  0.,  9.,  6.,  0.,  0.,  0.],\n",
       "       [ 0.,  5.,  0.,  0.,  0.,  0.,  9.,  0.],\n",
       "       [ 0.,  0., 10.,  0.,  0.,  0.,  2.,  0.],\n",
       "       [ 0.,  0.,  0.,  8.,  0.,  3.,  0.,  0.],\n",
       "       [ 0.,  8.,  0.,  0.,  3.,  0.,  0.,  0.],\n",
       "       [ 0.,  0.,  3.,  3.,  0.,  0.,  0.,  0.],\n",
       "       [ 0.,  2.,  4.,  0.,  0.,  0.,  0.,  0.],\n",
       "       [ 0.,  0.,  0.,  3.,  0., 10.,  0.,  0.],\n",
       "       [ 3.,  0.,  0.,  0.,  0.,  0.,  0., 10.],\n",
       "       [ 9.,  0.,  0.,  0.,  0.,  2.,  0.,  0.]])"
      ]
     },
     "execution_count": 11,
     "metadata": {},
     "output_type": "execute_result"
    }
   ],
   "source": [
    "#dados de teste;\n",
    "#observe que exatamente as notas que foram retiradas de treino são colocadas nessa matriz de teste!!\n",
    "\n",
    "test"
   ]
  },
  {
   "cell_type": "markdown",
   "metadata": {},
   "source": [
    "<br>\n",
    "\n",
    "Na prática, usaremos os dados de treino para treinar e escolher os modelos.\n",
    "\n",
    "Neste caso, podemos, inclusive, fazer a divisão em treino/validação/teste:\n",
    "    \n"
   ]
  },
  {
   "cell_type": "code",
   "execution_count": 12,
   "metadata": {},
   "outputs": [],
   "source": [
    "train, val = train_test_split(train, qtd = 2)"
   ]
  },
  {
   "cell_type": "code",
   "execution_count": 13,
   "metadata": {},
   "outputs": [
    {
     "data": {
      "text/plain": [
       "array([[ 0.,  0.,  0.,  0.,  0.,  0.,  3.,  0.],\n",
       "       [ 0., 10.,  2.,  2.,  0.,  5.,  0.,  0.],\n",
       "       [ 0.,  0.,  0.,  0.,  6., 10., 10.,  2.],\n",
       "       [ 0.,  0.,  0.,  0.,  5., 10.,  0.,  1.],\n",
       "       [ 0.,  6.,  3.,  0.,  3.,  0.,  0.,  2.],\n",
       "       [ 0.,  0.,  0.,  0.,  0.,  0.,  9.,  0.],\n",
       "       [ 0.,  0.,  4.,  4.,  3.,  0.,  0.,  0.],\n",
       "       [10.,  0.,  0.,  0.,  2.,  2.,  0.,  2.],\n",
       "       [ 0.,  0.,  0.,  0.,  3.,  0.,  1.,  0.],\n",
       "       [ 9.,  0.,  0.,  9.,  0.,  4.,  0.,  1.],\n",
       "       [ 0.,  4.,  0.,  0.,  0.,  9.,  8., 10.],\n",
       "       [ 0.,  0.,  0.,  1.,  0., 10., 10.,  9.],\n",
       "       [ 0.,  4.,  1.,  0.,  7.,  0.,  7.,  0.],\n",
       "       [ 0.,  3.,  0.,  1.,  1.,  0.,  0.,  0.],\n",
       "       [ 0.,  0.,  8.,  0.,  4.,  0.,  0.,  1.]])"
      ]
     },
     "execution_count": 13,
     "metadata": {},
     "output_type": "execute_result"
    }
   ],
   "source": [
    "train"
   ]
  },
  {
   "cell_type": "code",
   "execution_count": 14,
   "metadata": {},
   "outputs": [
    {
     "data": {
      "text/plain": [
       "array([[ 0.,  0.,  0.,  1.,  0.,  0.,  0.,  8.],\n",
       "       [ 9.,  0.,  0.,  0.,  0.,  0.,  0.,  8.],\n",
       "       [ 0.,  7.,  9.,  0.,  0.,  0.,  0.,  0.],\n",
       "       [ 0.,  7.,  0.,  0.,  0.,  0.,  9.,  0.],\n",
       "       [ 7.,  0.,  0.,  0.,  0.,  0.,  3.,  0.],\n",
       "       [ 0.,  0.,  9.,  0.,  0.,  8.,  0.,  0.],\n",
       "       [ 3.,  0.,  0.,  0.,  0.,  3.,  0.,  0.],\n",
       "       [ 0., 10.,  0., 10.,  0.,  0.,  0.,  0.],\n",
       "       [ 9.,  9.,  0.,  0.,  0.,  0.,  0.,  0.],\n",
       "       [ 0.,  0., 10.,  0.,  0.,  0.,  2.,  0.],\n",
       "       [ 4.,  0.,  0.,  0.,  9.,  0.,  0.,  0.],\n",
       "       [ 2.,  0.,  0.,  0.,  8.,  0.,  0.,  0.],\n",
       "       [ 1.,  0.,  0.,  0.,  0.,  0.,  0.,  8.],\n",
       "       [ 0.,  0.,  2.,  0.,  0., 10.,  0.,  0.],\n",
       "       [ 0.,  9.,  0., 10.,  0.,  0.,  0.,  0.]])"
      ]
     },
     "execution_count": 14,
     "metadata": {},
     "output_type": "execute_result"
    }
   ],
   "source": [
    "val"
   ]
  },
  {
   "cell_type": "code",
   "execution_count": 15,
   "metadata": {},
   "outputs": [
    {
     "data": {
      "text/plain": [
       "array([[ 0.,  0.,  0.,  0.,  7.,  2.,  0.,  0.],\n",
       "       [ 0.,  0.,  0.,  0.,  6.,  0.,  3.,  0.],\n",
       "       [ 4.,  0.,  0.,  6.,  0.,  0.,  0.,  0.],\n",
       "       [ 0.,  0.,  9.,  5.,  0.,  0.,  0.,  0.],\n",
       "       [ 0.,  0.,  0.,  8.,  0.,  4.,  0.,  0.],\n",
       "       [ 0.,  0.,  0.,  9.,  6.,  0.,  0.,  0.],\n",
       "       [ 0.,  5.,  0.,  0.,  0.,  0.,  9.,  0.],\n",
       "       [ 0.,  0., 10.,  0.,  0.,  0.,  2.,  0.],\n",
       "       [ 0.,  0.,  0.,  8.,  0.,  3.,  0.,  0.],\n",
       "       [ 0.,  8.,  0.,  0.,  3.,  0.,  0.,  0.],\n",
       "       [ 0.,  0.,  3.,  3.,  0.,  0.,  0.,  0.],\n",
       "       [ 0.,  2.,  4.,  0.,  0.,  0.,  0.,  0.],\n",
       "       [ 0.,  0.,  0.,  3.,  0., 10.,  0.,  0.],\n",
       "       [ 3.,  0.,  0.,  0.,  0.,  0.,  0., 10.],\n",
       "       [ 9.,  0.,  0.,  0.,  0.,  2.,  0.,  0.]])"
      ]
     },
     "execution_count": 15,
     "metadata": {},
     "output_type": "execute_result"
    }
   ],
   "source": [
    "test"
   ]
  },
  {
   "cell_type": "markdown",
   "metadata": {},
   "source": [
    "<br>\n",
    "\n",
    "Observe que, se \"juntamos\" os dados das 3 tabelas acima, retornamos com os dados originais:\n",
    "    \n",
    "<br>"
   ]
  },
  {
   "cell_type": "code",
   "execution_count": 16,
   "metadata": {},
   "outputs": [
    {
     "data": {
      "text/plain": [
       "array([[ 0.,  0.,  0.,  1.,  7.,  2.,  3.,  8.],\n",
       "       [ 9., 10.,  2.,  2.,  6.,  5.,  3.,  8.],\n",
       "       [ 4.,  7.,  9.,  6.,  6., 10., 10.,  2.],\n",
       "       [ 0.,  7.,  9.,  5.,  5., 10.,  9.,  1.],\n",
       "       [ 7.,  6.,  3.,  8.,  3.,  4.,  3.,  2.],\n",
       "       [ 0.,  0.,  9.,  9.,  6.,  8.,  9.,  0.],\n",
       "       [ 3.,  5.,  4.,  4.,  3.,  3.,  9.,  0.],\n",
       "       [10., 10., 10., 10.,  2.,  2.,  2.,  2.],\n",
       "       [ 9.,  9.,  0.,  8.,  3.,  3.,  1.,  0.],\n",
       "       [ 9.,  8., 10.,  9.,  3.,  4.,  2.,  1.],\n",
       "       [ 4.,  4.,  3.,  3.,  9.,  9.,  8., 10.],\n",
       "       [ 2.,  2.,  4.,  1.,  8., 10., 10.,  9.],\n",
       "       [ 1.,  4.,  1.,  3.,  7., 10.,  7.,  8.],\n",
       "       [ 3.,  3.,  2.,  1.,  1., 10.,  0., 10.],\n",
       "       [ 9.,  9.,  8., 10.,  4.,  2.,  0.,  1.]])"
      ]
     },
     "execution_count": 16,
     "metadata": {},
     "output_type": "execute_result"
    }
   ],
   "source": [
    "train + val + test"
   ]
  },
  {
   "cell_type": "code",
   "execution_count": 17,
   "metadata": {},
   "outputs": [
    {
     "data": {
      "text/plain": [
       "array([[ True,  True,  True,  True,  True,  True,  True,  True],\n",
       "       [ True,  True,  True,  True,  True,  True,  True,  True],\n",
       "       [ True,  True,  True,  True,  True,  True,  True,  True],\n",
       "       [ True,  True,  True,  True,  True,  True,  True,  True],\n",
       "       [ True,  True,  True,  True,  True,  True,  True,  True],\n",
       "       [ True,  True,  True,  True,  True,  True,  True,  True],\n",
       "       [ True,  True,  True,  True,  True,  True,  True,  True],\n",
       "       [ True,  True,  True,  True,  True,  True,  True,  True],\n",
       "       [ True,  True,  True,  True,  True,  True,  True,  True],\n",
       "       [ True,  True,  True,  True,  True,  True,  True,  True],\n",
       "       [ True,  True,  True,  True,  True,  True,  True,  True],\n",
       "       [ True,  True,  True,  True,  True,  True,  True,  True],\n",
       "       [ True,  True,  True,  True,  True,  True,  True,  True],\n",
       "       [ True,  True,  True,  True,  True,  True,  True,  True],\n",
       "       [ True,  True,  True,  True,  True,  True,  True,  True]])"
      ]
     },
     "execution_count": 17,
     "metadata": {},
     "output_type": "execute_result"
    }
   ],
   "source": [
    "(train + val + test) == ratings"
   ]
  },
  {
   "cell_type": "markdown",
   "metadata": {},
   "source": [
    "<br>\n",
    "\n",
    "Ou seja, com a metodologia acima, temos uma \"divisão\" dos dados em treino/validação/teste!\n",
    "\n",
    "\n",
    "Desta forma, podemos usar a metologia padrão de avaliação dos modelos:\n",
    "    \n",
    "    - Fitamos os modelos nos dados de treino;\n",
    "    \n",
    "    - Avaliamos os modelos nos dados de validação;\n",
    "    \n",
    "    - Escolhemos o modelo final, a partir dos resultados de validação;\n",
    "    \n",
    "    - Avaliamos o modelo final nos dados de teste.\n",
    "    \n",
    "    \n",
    "<br>\n",
    "\n",
    "\n",
    "__Ponto de atenção:__\n",
    "\n",
    "Ao calcularmos as métricas de performance, apenas os valores não nulos dos dados de validação/teste devem ser usados.\n",
    "\n",
    "<br><br>\n",
    "\n",
    "Vejamos um exemplo:"
   ]
  },
  {
   "cell_type": "code",
   "execution_count": 18,
   "metadata": {},
   "outputs": [],
   "source": [
    "fat = MatrixFactorization(dataframe = pd.DataFrame(train, columns = df.columns, index = df.index), \n",
    "                          K = 5, steps = 5000, alpha = 0.0001, beta = 0.2)"
   ]
  },
  {
   "cell_type": "code",
   "execution_count": 19,
   "metadata": {},
   "outputs": [
    {
     "name": "stdout",
     "output_type": "stream",
     "text": [
      "Fatoração concluída. Tempo aproximado: 1 minuto(s).\n"
     ]
    }
   ],
   "source": [
    "fat.fit()"
   ]
  },
  {
   "cell_type": "code",
   "execution_count": 20,
   "metadata": {},
   "outputs": [
    {
     "data": {
      "text/html": [
       "<div>\n",
       "<style scoped>\n",
       "    .dataframe tbody tr th:only-of-type {\n",
       "        vertical-align: middle;\n",
       "    }\n",
       "\n",
       "    .dataframe tbody tr th {\n",
       "        vertical-align: top;\n",
       "    }\n",
       "\n",
       "    .dataframe thead th {\n",
       "        text-align: right;\n",
       "    }\n",
       "</style>\n",
       "<table border=\"1\" class=\"dataframe\">\n",
       "  <thead>\n",
       "    <tr style=\"text-align: right;\">\n",
       "      <th></th>\n",
       "      <th>Filme_1</th>\n",
       "      <th>Filme_2</th>\n",
       "      <th>Filme_3</th>\n",
       "      <th>Filme_4</th>\n",
       "      <th>Filme_5</th>\n",
       "      <th>Filme_6</th>\n",
       "      <th>Filme_7</th>\n",
       "      <th>Filme_8</th>\n",
       "    </tr>\n",
       "  </thead>\n",
       "  <tbody>\n",
       "    <tr>\n",
       "      <td>User_1</td>\n",
       "      <td>3.01</td>\n",
       "      <td>2.10</td>\n",
       "      <td>1.26</td>\n",
       "      <td>1.92</td>\n",
       "      <td>2.17</td>\n",
       "      <td>3.49</td>\n",
       "      <td>2.96</td>\n",
       "      <td>0.22</td>\n",
       "    </tr>\n",
       "    <tr>\n",
       "      <td>User_2</td>\n",
       "      <td>6.41</td>\n",
       "      <td>9.52</td>\n",
       "      <td>2.37</td>\n",
       "      <td>1.67</td>\n",
       "      <td>3.38</td>\n",
       "      <td>5.09</td>\n",
       "      <td>7.90</td>\n",
       "      <td>4.37</td>\n",
       "    </tr>\n",
       "    <tr>\n",
       "      <td>User_3</td>\n",
       "      <td>10.49</td>\n",
       "      <td>6.13</td>\n",
       "      <td>4.18</td>\n",
       "      <td>6.60</td>\n",
       "      <td>6.15</td>\n",
       "      <td>9.83</td>\n",
       "      <td>9.56</td>\n",
       "      <td>2.21</td>\n",
       "    </tr>\n",
       "    <tr>\n",
       "      <td>User_4</td>\n",
       "      <td>6.90</td>\n",
       "      <td>3.57</td>\n",
       "      <td>1.44</td>\n",
       "      <td>3.85</td>\n",
       "      <td>5.50</td>\n",
       "      <td>9.43</td>\n",
       "      <td>6.50</td>\n",
       "      <td>1.13</td>\n",
       "    </tr>\n",
       "    <tr>\n",
       "      <td>User_5</td>\n",
       "      <td>5.04</td>\n",
       "      <td>5.85</td>\n",
       "      <td>2.86</td>\n",
       "      <td>2.48</td>\n",
       "      <td>2.93</td>\n",
       "      <td>4.15</td>\n",
       "      <td>5.61</td>\n",
       "      <td>1.98</td>\n",
       "    </tr>\n",
       "    <tr>\n",
       "      <td>User_6</td>\n",
       "      <td>9.51</td>\n",
       "      <td>7.17</td>\n",
       "      <td>4.62</td>\n",
       "      <td>5.23</td>\n",
       "      <td>4.24</td>\n",
       "      <td>6.08</td>\n",
       "      <td>8.89</td>\n",
       "      <td>4.51</td>\n",
       "    </tr>\n",
       "    <tr>\n",
       "      <td>User_7</td>\n",
       "      <td>6.46</td>\n",
       "      <td>4.94</td>\n",
       "      <td>3.63</td>\n",
       "      <td>4.21</td>\n",
       "      <td>2.80</td>\n",
       "      <td>3.96</td>\n",
       "      <td>6.05</td>\n",
       "      <td>1.71</td>\n",
       "    </tr>\n",
       "    <tr>\n",
       "      <td>User_8</td>\n",
       "      <td>9.56</td>\n",
       "      <td>2.26</td>\n",
       "      <td>5.87</td>\n",
       "      <td>8.09</td>\n",
       "      <td>1.95</td>\n",
       "      <td>2.25</td>\n",
       "      <td>6.58</td>\n",
       "      <td>2.06</td>\n",
       "    </tr>\n",
       "    <tr>\n",
       "      <td>User_9</td>\n",
       "      <td>1.06</td>\n",
       "      <td>0.34</td>\n",
       "      <td>-0.65</td>\n",
       "      <td>-0.31</td>\n",
       "      <td>2.49</td>\n",
       "      <td>4.31</td>\n",
       "      <td>1.27</td>\n",
       "      <td>1.07</td>\n",
       "    </tr>\n",
       "    <tr>\n",
       "      <td>User_10</td>\n",
       "      <td>9.23</td>\n",
       "      <td>0.96</td>\n",
       "      <td>5.98</td>\n",
       "      <td>8.39</td>\n",
       "      <td>3.00</td>\n",
       "      <td>3.92</td>\n",
       "      <td>6.11</td>\n",
       "      <td>0.86</td>\n",
       "    </tr>\n",
       "    <tr>\n",
       "      <td>User_11</td>\n",
       "      <td>9.35</td>\n",
       "      <td>4.10</td>\n",
       "      <td>0.73</td>\n",
       "      <td>2.42</td>\n",
       "      <td>5.29</td>\n",
       "      <td>8.85</td>\n",
       "      <td>7.96</td>\n",
       "      <td>9.54</td>\n",
       "    </tr>\n",
       "    <tr>\n",
       "      <td>User_12</td>\n",
       "      <td>8.72</td>\n",
       "      <td>9.41</td>\n",
       "      <td>1.77</td>\n",
       "      <td>1.19</td>\n",
       "      <td>6.30</td>\n",
       "      <td>9.88</td>\n",
       "      <td>9.74</td>\n",
       "      <td>8.74</td>\n",
       "    </tr>\n",
       "    <tr>\n",
       "      <td>User_13</td>\n",
       "      <td>7.47</td>\n",
       "      <td>4.01</td>\n",
       "      <td>1.09</td>\n",
       "      <td>3.32</td>\n",
       "      <td>6.17</td>\n",
       "      <td>10.53</td>\n",
       "      <td>7.12</td>\n",
       "      <td>2.91</td>\n",
       "    </tr>\n",
       "    <tr>\n",
       "      <td>User_14</td>\n",
       "      <td>2.57</td>\n",
       "      <td>2.92</td>\n",
       "      <td>0.77</td>\n",
       "      <td>0.98</td>\n",
       "      <td>1.02</td>\n",
       "      <td>1.65</td>\n",
       "      <td>2.78</td>\n",
       "      <td>1.45</td>\n",
       "    </tr>\n",
       "    <tr>\n",
       "      <td>User_15</td>\n",
       "      <td>9.43</td>\n",
       "      <td>6.44</td>\n",
       "      <td>7.67</td>\n",
       "      <td>7.68</td>\n",
       "      <td>3.85</td>\n",
       "      <td>4.45</td>\n",
       "      <td>8.34</td>\n",
       "      <td>1.02</td>\n",
       "    </tr>\n",
       "  </tbody>\n",
       "</table>\n",
       "</div>"
      ],
      "text/plain": [
       "         Filme_1  Filme_2  Filme_3  Filme_4  Filme_5  Filme_6  Filme_7  \\\n",
       "User_1      3.01     2.10     1.26     1.92     2.17     3.49     2.96   \n",
       "User_2      6.41     9.52     2.37     1.67     3.38     5.09     7.90   \n",
       "User_3     10.49     6.13     4.18     6.60     6.15     9.83     9.56   \n",
       "User_4      6.90     3.57     1.44     3.85     5.50     9.43     6.50   \n",
       "User_5      5.04     5.85     2.86     2.48     2.93     4.15     5.61   \n",
       "User_6      9.51     7.17     4.62     5.23     4.24     6.08     8.89   \n",
       "User_7      6.46     4.94     3.63     4.21     2.80     3.96     6.05   \n",
       "User_8      9.56     2.26     5.87     8.09     1.95     2.25     6.58   \n",
       "User_9      1.06     0.34    -0.65    -0.31     2.49     4.31     1.27   \n",
       "User_10     9.23     0.96     5.98     8.39     3.00     3.92     6.11   \n",
       "User_11     9.35     4.10     0.73     2.42     5.29     8.85     7.96   \n",
       "User_12     8.72     9.41     1.77     1.19     6.30     9.88     9.74   \n",
       "User_13     7.47     4.01     1.09     3.32     6.17    10.53     7.12   \n",
       "User_14     2.57     2.92     0.77     0.98     1.02     1.65     2.78   \n",
       "User_15     9.43     6.44     7.67     7.68     3.85     4.45     8.34   \n",
       "\n",
       "         Filme_8  \n",
       "User_1      0.22  \n",
       "User_2      4.37  \n",
       "User_3      2.21  \n",
       "User_4      1.13  \n",
       "User_5      1.98  \n",
       "User_6      4.51  \n",
       "User_7      1.71  \n",
       "User_8      2.06  \n",
       "User_9      1.07  \n",
       "User_10     0.86  \n",
       "User_11     9.54  \n",
       "User_12     8.74  \n",
       "User_13     2.91  \n",
       "User_14     1.45  \n",
       "User_15     1.02  "
      ]
     },
     "execution_count": 20,
     "metadata": {},
     "output_type": "execute_result"
    }
   ],
   "source": [
    "#predição usando apenas os dados de treino!!\n",
    "\n",
    "pd.DataFrame(fat.predict(), columns = df.columns, index = df.index).round(2)"
   ]
  },
  {
   "cell_type": "markdown",
   "metadata": {},
   "source": [
    "<br>\n",
    "\n",
    "Veja que a matriz resultante __não é esparsa!__\n",
    "\n",
    "Dessa forma, como sabemos, podemos utilizá-la para as recomendações.\n",
    "\n",
    "Como __nosso objetivo no exercício é avaliar performance__, podemos __comparar__ os resultados dessa matriz resultante com os valores dos dados de validação!"
   ]
  },
  {
   "cell_type": "code",
   "execution_count": 21,
   "metadata": {},
   "outputs": [
    {
     "data": {
      "text/html": [
       "<div>\n",
       "<style scoped>\n",
       "    .dataframe tbody tr th:only-of-type {\n",
       "        vertical-align: middle;\n",
       "    }\n",
       "\n",
       "    .dataframe tbody tr th {\n",
       "        vertical-align: top;\n",
       "    }\n",
       "\n",
       "    .dataframe thead th {\n",
       "        text-align: right;\n",
       "    }\n",
       "</style>\n",
       "<table border=\"1\" class=\"dataframe\">\n",
       "  <thead>\n",
       "    <tr style=\"text-align: right;\">\n",
       "      <th></th>\n",
       "      <th>Filme_1</th>\n",
       "      <th>Filme_2</th>\n",
       "      <th>Filme_3</th>\n",
       "      <th>Filme_4</th>\n",
       "      <th>Filme_5</th>\n",
       "      <th>Filme_6</th>\n",
       "      <th>Filme_7</th>\n",
       "      <th>Filme_8</th>\n",
       "    </tr>\n",
       "  </thead>\n",
       "  <tbody>\n",
       "    <tr>\n",
       "      <td>User_1</td>\n",
       "      <td>0.0</td>\n",
       "      <td>0.0</td>\n",
       "      <td>0.0</td>\n",
       "      <td>1.0</td>\n",
       "      <td>0.0</td>\n",
       "      <td>0.0</td>\n",
       "      <td>0.0</td>\n",
       "      <td>8.0</td>\n",
       "    </tr>\n",
       "    <tr>\n",
       "      <td>User_2</td>\n",
       "      <td>9.0</td>\n",
       "      <td>0.0</td>\n",
       "      <td>0.0</td>\n",
       "      <td>0.0</td>\n",
       "      <td>0.0</td>\n",
       "      <td>0.0</td>\n",
       "      <td>0.0</td>\n",
       "      <td>8.0</td>\n",
       "    </tr>\n",
       "    <tr>\n",
       "      <td>User_3</td>\n",
       "      <td>0.0</td>\n",
       "      <td>7.0</td>\n",
       "      <td>9.0</td>\n",
       "      <td>0.0</td>\n",
       "      <td>0.0</td>\n",
       "      <td>0.0</td>\n",
       "      <td>0.0</td>\n",
       "      <td>0.0</td>\n",
       "    </tr>\n",
       "    <tr>\n",
       "      <td>User_4</td>\n",
       "      <td>0.0</td>\n",
       "      <td>7.0</td>\n",
       "      <td>0.0</td>\n",
       "      <td>0.0</td>\n",
       "      <td>0.0</td>\n",
       "      <td>0.0</td>\n",
       "      <td>9.0</td>\n",
       "      <td>0.0</td>\n",
       "    </tr>\n",
       "    <tr>\n",
       "      <td>User_5</td>\n",
       "      <td>7.0</td>\n",
       "      <td>0.0</td>\n",
       "      <td>0.0</td>\n",
       "      <td>0.0</td>\n",
       "      <td>0.0</td>\n",
       "      <td>0.0</td>\n",
       "      <td>3.0</td>\n",
       "      <td>0.0</td>\n",
       "    </tr>\n",
       "    <tr>\n",
       "      <td>User_6</td>\n",
       "      <td>0.0</td>\n",
       "      <td>0.0</td>\n",
       "      <td>9.0</td>\n",
       "      <td>0.0</td>\n",
       "      <td>0.0</td>\n",
       "      <td>8.0</td>\n",
       "      <td>0.0</td>\n",
       "      <td>0.0</td>\n",
       "    </tr>\n",
       "    <tr>\n",
       "      <td>User_7</td>\n",
       "      <td>3.0</td>\n",
       "      <td>0.0</td>\n",
       "      <td>0.0</td>\n",
       "      <td>0.0</td>\n",
       "      <td>0.0</td>\n",
       "      <td>3.0</td>\n",
       "      <td>0.0</td>\n",
       "      <td>0.0</td>\n",
       "    </tr>\n",
       "    <tr>\n",
       "      <td>User_8</td>\n",
       "      <td>0.0</td>\n",
       "      <td>10.0</td>\n",
       "      <td>0.0</td>\n",
       "      <td>10.0</td>\n",
       "      <td>0.0</td>\n",
       "      <td>0.0</td>\n",
       "      <td>0.0</td>\n",
       "      <td>0.0</td>\n",
       "    </tr>\n",
       "    <tr>\n",
       "      <td>User_9</td>\n",
       "      <td>9.0</td>\n",
       "      <td>9.0</td>\n",
       "      <td>0.0</td>\n",
       "      <td>0.0</td>\n",
       "      <td>0.0</td>\n",
       "      <td>0.0</td>\n",
       "      <td>0.0</td>\n",
       "      <td>0.0</td>\n",
       "    </tr>\n",
       "    <tr>\n",
       "      <td>User_10</td>\n",
       "      <td>0.0</td>\n",
       "      <td>0.0</td>\n",
       "      <td>10.0</td>\n",
       "      <td>0.0</td>\n",
       "      <td>0.0</td>\n",
       "      <td>0.0</td>\n",
       "      <td>2.0</td>\n",
       "      <td>0.0</td>\n",
       "    </tr>\n",
       "    <tr>\n",
       "      <td>User_11</td>\n",
       "      <td>4.0</td>\n",
       "      <td>0.0</td>\n",
       "      <td>0.0</td>\n",
       "      <td>0.0</td>\n",
       "      <td>9.0</td>\n",
       "      <td>0.0</td>\n",
       "      <td>0.0</td>\n",
       "      <td>0.0</td>\n",
       "    </tr>\n",
       "    <tr>\n",
       "      <td>User_12</td>\n",
       "      <td>2.0</td>\n",
       "      <td>0.0</td>\n",
       "      <td>0.0</td>\n",
       "      <td>0.0</td>\n",
       "      <td>8.0</td>\n",
       "      <td>0.0</td>\n",
       "      <td>0.0</td>\n",
       "      <td>0.0</td>\n",
       "    </tr>\n",
       "    <tr>\n",
       "      <td>User_13</td>\n",
       "      <td>1.0</td>\n",
       "      <td>0.0</td>\n",
       "      <td>0.0</td>\n",
       "      <td>0.0</td>\n",
       "      <td>0.0</td>\n",
       "      <td>0.0</td>\n",
       "      <td>0.0</td>\n",
       "      <td>8.0</td>\n",
       "    </tr>\n",
       "    <tr>\n",
       "      <td>User_14</td>\n",
       "      <td>0.0</td>\n",
       "      <td>0.0</td>\n",
       "      <td>2.0</td>\n",
       "      <td>0.0</td>\n",
       "      <td>0.0</td>\n",
       "      <td>10.0</td>\n",
       "      <td>0.0</td>\n",
       "      <td>0.0</td>\n",
       "    </tr>\n",
       "    <tr>\n",
       "      <td>User_15</td>\n",
       "      <td>0.0</td>\n",
       "      <td>9.0</td>\n",
       "      <td>0.0</td>\n",
       "      <td>10.0</td>\n",
       "      <td>0.0</td>\n",
       "      <td>0.0</td>\n",
       "      <td>0.0</td>\n",
       "      <td>0.0</td>\n",
       "    </tr>\n",
       "  </tbody>\n",
       "</table>\n",
       "</div>"
      ],
      "text/plain": [
       "         Filme_1  Filme_2  Filme_3  Filme_4  Filme_5  Filme_6  Filme_7  \\\n",
       "User_1       0.0      0.0      0.0      1.0      0.0      0.0      0.0   \n",
       "User_2       9.0      0.0      0.0      0.0      0.0      0.0      0.0   \n",
       "User_3       0.0      7.0      9.0      0.0      0.0      0.0      0.0   \n",
       "User_4       0.0      7.0      0.0      0.0      0.0      0.0      9.0   \n",
       "User_5       7.0      0.0      0.0      0.0      0.0      0.0      3.0   \n",
       "User_6       0.0      0.0      9.0      0.0      0.0      8.0      0.0   \n",
       "User_7       3.0      0.0      0.0      0.0      0.0      3.0      0.0   \n",
       "User_8       0.0     10.0      0.0     10.0      0.0      0.0      0.0   \n",
       "User_9       9.0      9.0      0.0      0.0      0.0      0.0      0.0   \n",
       "User_10      0.0      0.0     10.0      0.0      0.0      0.0      2.0   \n",
       "User_11      4.0      0.0      0.0      0.0      9.0      0.0      0.0   \n",
       "User_12      2.0      0.0      0.0      0.0      8.0      0.0      0.0   \n",
       "User_13      1.0      0.0      0.0      0.0      0.0      0.0      0.0   \n",
       "User_14      0.0      0.0      2.0      0.0      0.0     10.0      0.0   \n",
       "User_15      0.0      9.0      0.0     10.0      0.0      0.0      0.0   \n",
       "\n",
       "         Filme_8  \n",
       "User_1       8.0  \n",
       "User_2       8.0  \n",
       "User_3       0.0  \n",
       "User_4       0.0  \n",
       "User_5       0.0  \n",
       "User_6       0.0  \n",
       "User_7       0.0  \n",
       "User_8       0.0  \n",
       "User_9       0.0  \n",
       "User_10      0.0  \n",
       "User_11      0.0  \n",
       "User_12      0.0  \n",
       "User_13      8.0  \n",
       "User_14      0.0  \n",
       "User_15      0.0  "
      ]
     },
     "execution_count": 21,
     "metadata": {},
     "output_type": "execute_result"
    }
   ],
   "source": [
    "pd.DataFrame(val, columns = df.columns, index = df.index)"
   ]
  },
  {
   "cell_type": "markdown",
   "metadata": {},
   "source": [
    "<br>\n",
    "\n",
    "Agora, irei utilizar o algoritmo de recomendação para encontrar a melhor recomendação possível variando os hiperparametros e analisando as metricas."
   ]
  },
  {
   "cell_type": "code",
   "execution_count": 37,
   "metadata": {
    "scrolled": false
   },
   "outputs": [
    {
     "name": "stdout",
     "output_type": "stream",
     "text": [
      "(367, 80)\n"
     ]
    },
    {
     "data": {
      "text/html": [
       "<div>\n",
       "<style scoped>\n",
       "    .dataframe tbody tr th:only-of-type {\n",
       "        vertical-align: middle;\n",
       "    }\n",
       "\n",
       "    .dataframe tbody tr th {\n",
       "        vertical-align: top;\n",
       "    }\n",
       "\n",
       "    .dataframe thead th {\n",
       "        text-align: right;\n",
       "    }\n",
       "</style>\n",
       "<table border=\"1\" class=\"dataframe\">\n",
       "  <thead>\n",
       "    <tr style=\"text-align: right;\">\n",
       "      <th></th>\n",
       "      <th>Filme_1</th>\n",
       "      <th>Filme_2</th>\n",
       "      <th>Filme_3</th>\n",
       "      <th>Filme_4</th>\n",
       "      <th>Filme_5</th>\n",
       "      <th>Filme_6</th>\n",
       "      <th>Filme_7</th>\n",
       "      <th>Filme_8</th>\n",
       "      <th>Filme_9</th>\n",
       "      <th>Filme_10</th>\n",
       "      <th>...</th>\n",
       "      <th>Filme_71</th>\n",
       "      <th>Filme_72</th>\n",
       "      <th>Filme_73</th>\n",
       "      <th>Filme_74</th>\n",
       "      <th>Filme_75</th>\n",
       "      <th>Filme_76</th>\n",
       "      <th>Filme_77</th>\n",
       "      <th>Filme_78</th>\n",
       "      <th>Filme_79</th>\n",
       "      <th>Filme_80</th>\n",
       "    </tr>\n",
       "  </thead>\n",
       "  <tbody>\n",
       "    <tr>\n",
       "      <th>User_0</th>\n",
       "      <td>5.0</td>\n",
       "      <td>3.0</td>\n",
       "      <td>4.0</td>\n",
       "      <td>3.0</td>\n",
       "      <td>3.0</td>\n",
       "      <td>5.0</td>\n",
       "      <td>4.0</td>\n",
       "      <td>1.0</td>\n",
       "      <td>5.0</td>\n",
       "      <td>3.0</td>\n",
       "      <td>...</td>\n",
       "      <td>3.0</td>\n",
       "      <td>4.0</td>\n",
       "      <td>3.0</td>\n",
       "      <td>1.0</td>\n",
       "      <td>4.0</td>\n",
       "      <td>4.0</td>\n",
       "      <td>4.0</td>\n",
       "      <td>1.0</td>\n",
       "      <td>4.0</td>\n",
       "      <td>4.0</td>\n",
       "    </tr>\n",
       "    <tr>\n",
       "      <th>User_1</th>\n",
       "      <td>4.0</td>\n",
       "      <td>3.0</td>\n",
       "      <td>NaN</td>\n",
       "      <td>NaN</td>\n",
       "      <td>NaN</td>\n",
       "      <td>NaN</td>\n",
       "      <td>NaN</td>\n",
       "      <td>NaN</td>\n",
       "      <td>NaN</td>\n",
       "      <td>NaN</td>\n",
       "      <td>...</td>\n",
       "      <td>NaN</td>\n",
       "      <td>NaN</td>\n",
       "      <td>NaN</td>\n",
       "      <td>NaN</td>\n",
       "      <td>NaN</td>\n",
       "      <td>NaN</td>\n",
       "      <td>NaN</td>\n",
       "      <td>NaN</td>\n",
       "      <td>3.0</td>\n",
       "      <td>2.0</td>\n",
       "    </tr>\n",
       "    <tr>\n",
       "      <th>User_2</th>\n",
       "      <td>4.0</td>\n",
       "      <td>NaN</td>\n",
       "      <td>NaN</td>\n",
       "      <td>NaN</td>\n",
       "      <td>NaN</td>\n",
       "      <td>NaN</td>\n",
       "      <td>2.0</td>\n",
       "      <td>4.0</td>\n",
       "      <td>4.0</td>\n",
       "      <td>NaN</td>\n",
       "      <td>...</td>\n",
       "      <td>4.0</td>\n",
       "      <td>NaN</td>\n",
       "      <td>NaN</td>\n",
       "      <td>NaN</td>\n",
       "      <td>NaN</td>\n",
       "      <td>NaN</td>\n",
       "      <td>NaN</td>\n",
       "      <td>NaN</td>\n",
       "      <td>3.0</td>\n",
       "      <td>NaN</td>\n",
       "    </tr>\n",
       "    <tr>\n",
       "      <th>User_3</th>\n",
       "      <td>NaN</td>\n",
       "      <td>NaN</td>\n",
       "      <td>NaN</td>\n",
       "      <td>5.0</td>\n",
       "      <td>NaN</td>\n",
       "      <td>NaN</td>\n",
       "      <td>5.0</td>\n",
       "      <td>5.0</td>\n",
       "      <td>5.0</td>\n",
       "      <td>4.0</td>\n",
       "      <td>...</td>\n",
       "      <td>5.0</td>\n",
       "      <td>5.0</td>\n",
       "      <td>3.0</td>\n",
       "      <td>NaN</td>\n",
       "      <td>NaN</td>\n",
       "      <td>NaN</td>\n",
       "      <td>5.0</td>\n",
       "      <td>3.0</td>\n",
       "      <td>4.0</td>\n",
       "      <td>4.0</td>\n",
       "    </tr>\n",
       "    <tr>\n",
       "      <th>User_4</th>\n",
       "      <td>4.0</td>\n",
       "      <td>NaN</td>\n",
       "      <td>NaN</td>\n",
       "      <td>4.0</td>\n",
       "      <td>NaN</td>\n",
       "      <td>NaN</td>\n",
       "      <td>4.0</td>\n",
       "      <td>NaN</td>\n",
       "      <td>4.0</td>\n",
       "      <td>NaN</td>\n",
       "      <td>...</td>\n",
       "      <td>NaN</td>\n",
       "      <td>NaN</td>\n",
       "      <td>NaN</td>\n",
       "      <td>NaN</td>\n",
       "      <td>NaN</td>\n",
       "      <td>NaN</td>\n",
       "      <td>NaN</td>\n",
       "      <td>NaN</td>\n",
       "      <td>NaN</td>\n",
       "      <td>NaN</td>\n",
       "    </tr>\n",
       "    <tr>\n",
       "      <th>...</th>\n",
       "      <td>...</td>\n",
       "      <td>...</td>\n",
       "      <td>...</td>\n",
       "      <td>...</td>\n",
       "      <td>...</td>\n",
       "      <td>...</td>\n",
       "      <td>...</td>\n",
       "      <td>...</td>\n",
       "      <td>...</td>\n",
       "      <td>...</td>\n",
       "      <td>...</td>\n",
       "      <td>...</td>\n",
       "      <td>...</td>\n",
       "      <td>...</td>\n",
       "      <td>...</td>\n",
       "      <td>...</td>\n",
       "      <td>...</td>\n",
       "      <td>...</td>\n",
       "      <td>...</td>\n",
       "      <td>...</td>\n",
       "      <td>...</td>\n",
       "    </tr>\n",
       "    <tr>\n",
       "      <th>User_362</th>\n",
       "      <td>3.0</td>\n",
       "      <td>NaN</td>\n",
       "      <td>NaN</td>\n",
       "      <td>3.0</td>\n",
       "      <td>NaN</td>\n",
       "      <td>NaN</td>\n",
       "      <td>4.0</td>\n",
       "      <td>NaN</td>\n",
       "      <td>3.0</td>\n",
       "      <td>NaN</td>\n",
       "      <td>...</td>\n",
       "      <td>NaN</td>\n",
       "      <td>3.0</td>\n",
       "      <td>4.0</td>\n",
       "      <td>NaN</td>\n",
       "      <td>NaN</td>\n",
       "      <td>NaN</td>\n",
       "      <td>NaN</td>\n",
       "      <td>NaN</td>\n",
       "      <td>3.0</td>\n",
       "      <td>2.0</td>\n",
       "    </tr>\n",
       "    <tr>\n",
       "      <th>User_363</th>\n",
       "      <td>2.0</td>\n",
       "      <td>4.0</td>\n",
       "      <td>NaN</td>\n",
       "      <td>5.0</td>\n",
       "      <td>NaN</td>\n",
       "      <td>NaN</td>\n",
       "      <td>NaN</td>\n",
       "      <td>NaN</td>\n",
       "      <td>NaN</td>\n",
       "      <td>NaN</td>\n",
       "      <td>...</td>\n",
       "      <td>NaN</td>\n",
       "      <td>3.0</td>\n",
       "      <td>NaN</td>\n",
       "      <td>NaN</td>\n",
       "      <td>NaN</td>\n",
       "      <td>NaN</td>\n",
       "      <td>NaN</td>\n",
       "      <td>NaN</td>\n",
       "      <td>NaN</td>\n",
       "      <td>NaN</td>\n",
       "    </tr>\n",
       "    <tr>\n",
       "      <th>User_364</th>\n",
       "      <td>4.0</td>\n",
       "      <td>NaN</td>\n",
       "      <td>4.0</td>\n",
       "      <td>NaN</td>\n",
       "      <td>NaN</td>\n",
       "      <td>5.0</td>\n",
       "      <td>4.0</td>\n",
       "      <td>NaN</td>\n",
       "      <td>4.0</td>\n",
       "      <td>NaN</td>\n",
       "      <td>...</td>\n",
       "      <td>NaN</td>\n",
       "      <td>NaN</td>\n",
       "      <td>NaN</td>\n",
       "      <td>NaN</td>\n",
       "      <td>NaN</td>\n",
       "      <td>NaN</td>\n",
       "      <td>NaN</td>\n",
       "      <td>NaN</td>\n",
       "      <td>NaN</td>\n",
       "      <td>NaN</td>\n",
       "    </tr>\n",
       "    <tr>\n",
       "      <th>User_365</th>\n",
       "      <td>NaN</td>\n",
       "      <td>NaN</td>\n",
       "      <td>NaN</td>\n",
       "      <td>2.0</td>\n",
       "      <td>NaN</td>\n",
       "      <td>NaN</td>\n",
       "      <td>4.0</td>\n",
       "      <td>5.0</td>\n",
       "      <td>3.0</td>\n",
       "      <td>NaN</td>\n",
       "      <td>...</td>\n",
       "      <td>NaN</td>\n",
       "      <td>NaN</td>\n",
       "      <td>NaN</td>\n",
       "      <td>NaN</td>\n",
       "      <td>NaN</td>\n",
       "      <td>NaN</td>\n",
       "      <td>NaN</td>\n",
       "      <td>NaN</td>\n",
       "      <td>NaN</td>\n",
       "      <td>NaN</td>\n",
       "    </tr>\n",
       "    <tr>\n",
       "      <th>User_366</th>\n",
       "      <td>NaN</td>\n",
       "      <td>5.0</td>\n",
       "      <td>NaN</td>\n",
       "      <td>NaN</td>\n",
       "      <td>NaN</td>\n",
       "      <td>NaN</td>\n",
       "      <td>NaN</td>\n",
       "      <td>NaN</td>\n",
       "      <td>3.0</td>\n",
       "      <td>NaN</td>\n",
       "      <td>...</td>\n",
       "      <td>NaN</td>\n",
       "      <td>2.0</td>\n",
       "      <td>3.0</td>\n",
       "      <td>NaN</td>\n",
       "      <td>NaN</td>\n",
       "      <td>4.0</td>\n",
       "      <td>NaN</td>\n",
       "      <td>NaN</td>\n",
       "      <td>5.0</td>\n",
       "      <td>2.0</td>\n",
       "    </tr>\n",
       "  </tbody>\n",
       "</table>\n",
       "<p>367 rows × 80 columns</p>\n",
       "</div>"
      ],
      "text/plain": [
       "          Filme_1  Filme_2  Filme_3  Filme_4  Filme_5  Filme_6  Filme_7  \\\n",
       "User_0        5.0      3.0      4.0      3.0      3.0      5.0      4.0   \n",
       "User_1        4.0      3.0      NaN      NaN      NaN      NaN      NaN   \n",
       "User_2        4.0      NaN      NaN      NaN      NaN      NaN      2.0   \n",
       "User_3        NaN      NaN      NaN      5.0      NaN      NaN      5.0   \n",
       "User_4        4.0      NaN      NaN      4.0      NaN      NaN      4.0   \n",
       "...           ...      ...      ...      ...      ...      ...      ...   \n",
       "User_362      3.0      NaN      NaN      3.0      NaN      NaN      4.0   \n",
       "User_363      2.0      4.0      NaN      5.0      NaN      NaN      NaN   \n",
       "User_364      4.0      NaN      4.0      NaN      NaN      5.0      4.0   \n",
       "User_365      NaN      NaN      NaN      2.0      NaN      NaN      4.0   \n",
       "User_366      NaN      5.0      NaN      NaN      NaN      NaN      NaN   \n",
       "\n",
       "          Filme_8  Filme_9  Filme_10  ...  Filme_71  Filme_72  Filme_73  \\\n",
       "User_0        1.0      5.0       3.0  ...       3.0       4.0       3.0   \n",
       "User_1        NaN      NaN       NaN  ...       NaN       NaN       NaN   \n",
       "User_2        4.0      4.0       NaN  ...       4.0       NaN       NaN   \n",
       "User_3        5.0      5.0       4.0  ...       5.0       5.0       3.0   \n",
       "User_4        NaN      4.0       NaN  ...       NaN       NaN       NaN   \n",
       "...           ...      ...       ...  ...       ...       ...       ...   \n",
       "User_362      NaN      3.0       NaN  ...       NaN       3.0       4.0   \n",
       "User_363      NaN      NaN       NaN  ...       NaN       3.0       NaN   \n",
       "User_364      NaN      4.0       NaN  ...       NaN       NaN       NaN   \n",
       "User_365      5.0      3.0       NaN  ...       NaN       NaN       NaN   \n",
       "User_366      NaN      3.0       NaN  ...       NaN       2.0       3.0   \n",
       "\n",
       "          Filme_74  Filme_75  Filme_76  Filme_77  Filme_78  Filme_79  Filme_80  \n",
       "User_0         1.0       4.0       4.0       4.0       1.0       4.0       4.0  \n",
       "User_1         NaN       NaN       NaN       NaN       NaN       3.0       2.0  \n",
       "User_2         NaN       NaN       NaN       NaN       NaN       3.0       NaN  \n",
       "User_3         NaN       NaN       NaN       5.0       3.0       4.0       4.0  \n",
       "User_4         NaN       NaN       NaN       NaN       NaN       NaN       NaN  \n",
       "...            ...       ...       ...       ...       ...       ...       ...  \n",
       "User_362       NaN       NaN       NaN       NaN       NaN       3.0       2.0  \n",
       "User_363       NaN       NaN       NaN       NaN       NaN       NaN       NaN  \n",
       "User_364       NaN       NaN       NaN       NaN       NaN       NaN       NaN  \n",
       "User_365       NaN       NaN       NaN       NaN       NaN       NaN       NaN  \n",
       "User_366       NaN       NaN       4.0       NaN       NaN       5.0       2.0  \n",
       "\n",
       "[367 rows x 80 columns]"
      ]
     },
     "execution_count": 37,
     "metadata": {},
     "output_type": "execute_result"
    }
   ],
   "source": [
    "R = getData()\n",
    "print(R.shape)\n",
    "R"
   ]
  },
  {
   "cell_type": "code",
   "execution_count": 38,
   "metadata": {},
   "outputs": [],
   "source": [
    "ratings = R.fillna(0).values\n",
    "\n",
    "train, test = train_test_split(ratings=ratings, qtd=2)"
   ]
  },
  {
   "cell_type": "code",
   "execution_count": 39,
   "metadata": {},
   "outputs": [
    {
     "data": {
      "text/plain": [
       "array([[5., 3., 4., ..., 1., 4., 4.],\n",
       "       [4., 3., 0., ..., 0., 0., 2.],\n",
       "       [0., 0., 0., ..., 0., 3., 0.],\n",
       "       ...,\n",
       "       [4., 0., 0., ..., 0., 0., 0.],\n",
       "       [0., 0., 0., ..., 0., 0., 0.],\n",
       "       [0., 5., 0., ..., 0., 5., 2.]])"
      ]
     },
     "execution_count": 39,
     "metadata": {},
     "output_type": "execute_result"
    }
   ],
   "source": [
    "train"
   ]
  },
  {
   "cell_type": "code",
   "execution_count": 41,
   "metadata": {},
   "outputs": [
    {
     "data": {
      "text/plain": [
       "array([[0., 0., 0., ..., 0., 0., 0.],\n",
       "       [0., 0., 0., ..., 0., 3., 0.],\n",
       "       [4., 0., 0., ..., 0., 0., 0.],\n",
       "       ...,\n",
       "       [0., 0., 4., ..., 0., 0., 0.],\n",
       "       [0., 0., 0., ..., 0., 0., 0.],\n",
       "       [0., 0., 0., ..., 0., 0., 0.]])"
      ]
     },
     "execution_count": 41,
     "metadata": {},
     "output_type": "execute_result"
    }
   ],
   "source": [
    "test"
   ]
  },
  {
   "cell_type": "code",
   "execution_count": 42,
   "metadata": {},
   "outputs": [],
   "source": [
    "train, val = train_test_split(ratings=train, qtd=2)"
   ]
  },
  {
   "cell_type": "code",
   "execution_count": 43,
   "metadata": {},
   "outputs": [
    {
     "data": {
      "text/plain": [
       "array([[5., 0., 4., ..., 1., 4., 4.],\n",
       "       [0., 3., 0., ..., 0., 0., 2.],\n",
       "       [0., 0., 0., ..., 0., 3., 0.],\n",
       "       ...,\n",
       "       [4., 0., 0., ..., 0., 0., 0.],\n",
       "       [0., 0., 0., ..., 0., 0., 0.],\n",
       "       [0., 5., 0., ..., 0., 5., 2.]])"
      ]
     },
     "execution_count": 43,
     "metadata": {},
     "output_type": "execute_result"
    }
   ],
   "source": [
    "train"
   ]
  },
  {
   "cell_type": "code",
   "execution_count": 44,
   "metadata": {},
   "outputs": [
    {
     "data": {
      "text/plain": [
       "array([[0., 3., 0., ..., 0., 0., 0.],\n",
       "       [4., 0., 0., ..., 0., 0., 0.],\n",
       "       [0., 0., 0., ..., 0., 0., 0.],\n",
       "       ...,\n",
       "       [0., 0., 0., ..., 0., 0., 0.],\n",
       "       [0., 0., 0., ..., 0., 0., 0.],\n",
       "       [0., 0., 0., ..., 0., 0., 0.]])"
      ]
     },
     "execution_count": 44,
     "metadata": {},
     "output_type": "execute_result"
    }
   ],
   "source": [
    "val"
   ]
  },
  {
   "cell_type": "code",
   "execution_count": 45,
   "metadata": {},
   "outputs": [
    {
     "data": {
      "text/plain": [
       "array([[0., 0., 0., ..., 0., 0., 0.],\n",
       "       [0., 0., 0., ..., 0., 3., 0.],\n",
       "       [4., 0., 0., ..., 0., 0., 0.],\n",
       "       ...,\n",
       "       [0., 0., 4., ..., 0., 0., 0.],\n",
       "       [0., 0., 0., ..., 0., 0., 0.],\n",
       "       [0., 0., 0., ..., 0., 0., 0.]])"
      ]
     },
     "execution_count": 45,
     "metadata": {},
     "output_type": "execute_result"
    }
   ],
   "source": [
    "test"
   ]
  },
  {
   "cell_type": "code",
   "execution_count": 35,
   "metadata": {},
   "outputs": [
    {
     "data": {
      "text/plain": [
       "array([[ True,  True,  True, ...,  True,  True,  True],\n",
       "       [ True,  True,  True, ...,  True,  True,  True],\n",
       "       [ True,  True,  True, ...,  True,  True,  True],\n",
       "       ...,\n",
       "       [ True,  True,  True, ...,  True,  True,  True],\n",
       "       [ True,  True,  True, ...,  True,  True,  True],\n",
       "       [ True,  True,  True, ...,  True,  True,  True]])"
      ]
     },
     "execution_count": 35,
     "metadata": {},
     "output_type": "execute_result"
    }
   ],
   "source": [
    "(train + val + test) == ratings"
   ]
  },
  {
   "cell_type": "markdown",
   "metadata": {},
   "source": [
    "validando se o train_test_split está funcionando bem"
   ]
  },
  {
   "cell_type": "code",
   "execution_count": 50,
   "metadata": {},
   "outputs": [
    {
     "name": "stdout",
     "output_type": "stream",
     "text": [
      "Fatoração concluída. Tempo aproximado: 12 minuto(s).\n"
     ]
    }
   ],
   "source": [
    "fat = MatrixFactorization(dataframe = pd.DataFrame(train, columns = R.columns, index = R.index), \n",
    "                          K = 5, steps = 5000, alpha = 0.0001, beta = 0.2)\n",
    "fat.fit()"
   ]
  },
  {
   "cell_type": "code",
   "execution_count": 51,
   "metadata": {},
   "outputs": [
    {
     "data": {
      "image/png": "[encoded data removed]",
      "text/plain": [
       "<Figure size 1500x600 with 1 Axes>"
      ]
     },
     "metadata": {},
     "output_type": "display_data"
    }
   ],
   "source": [
    "fat.print_MSE_steps()"
   ]
  },
  {
   "cell_type": "code",
   "execution_count": 59,
   "metadata": {},
   "outputs": [
    {
     "data": {
      "text/plain": [
       "True"
      ]
     },
     "execution_count": 59,
     "metadata": {},
     "output_type": "execute_result"
    }
   ],
   "source": [
    "mse_train = fat.lista_erro_step[len(fat.lista_erro_step)-1]\n",
    "mse_min = np.min(fat.lista_erro_step)\n",
    "\n",
    "mse_train == mse_min"
   ]
  },
  {
   "cell_type": "markdown",
   "metadata": {},
   "source": [
    "Avaliando o grafico de \"Custo total por Step\", vemos que quanto menor a quantidade de steps, menor o erro associado. Ao comparar o ultimo valor da lista_erro_step com menor valor da lista, vemos que realmente quanto maior a quantidade de steps, menor o MSE"
   ]
  },
  {
   "cell_type": "code",
   "execution_count": 54,
   "metadata": {},
   "outputs": [
    {
     "name": "stdout",
     "output_type": "stream",
     "text": [
      "Fatoração concluída. Tempo aproximado: 2 minuto(s).\n"
     ]
    }
   ],
   "source": [
    "fatVal = MatrixFactorization(dataframe = pd.DataFrame(val, columns = R.columns, index = R.index), \n",
    "                          K = 5, steps = 5000, alpha = 0.0001, beta = 0.2)\n",
    "fatVal.fit()"
   ]
  },
  {
   "cell_type": "code",
   "execution_count": 57,
   "metadata": {},
   "outputs": [
    {
     "data": {
      "image/png": "[encoded data removed]",
      "text/plain": [
       "<Figure size 1500x600 with 1 Axes>"
      ]
     },
     "metadata": {},
     "output_type": "display_data"
    }
   ],
   "source": [
    "fatVal.print_MSE_steps()"
   ]
  },
  {
   "cell_type": "code",
   "execution_count": 62,
   "metadata": {},
   "outputs": [
    {
     "data": {
      "text/plain": [
       "True"
      ]
     },
     "execution_count": 62,
     "metadata": {},
     "output_type": "execute_result"
    }
   ],
   "source": [
    "mse_val = fatVal.lista_erro_step[len(fatVal.lista_erro_step)-1]\n",
    "mse_min = np.min(fatVal.lista_erro_step)\n",
    "\n",
    "mse_val == mse_min"
   ]
  },
  {
   "cell_type": "markdown",
   "metadata": {},
   "source": [
    "Aqui vemos que o padrão se mantem para os dados de validação. Indicando que steps = 5000 para steps de 1 a 5000 é o valor otimo."
   ]
  },
  {
   "cell_type": "code",
   "execution_count": 64,
   "metadata": {},
   "outputs": [
    {
     "name": "stdout",
     "output_type": "stream",
     "text": [
      "Menor MSE de treino: 3907.0015721022273\n",
      "Menor MSE de validação: 66.46170893682256\n",
      "Comparação entre os dois: False\n"
     ]
    }
   ],
   "source": [
    "print(\"Menor MSE de treino:\", mse_train)\n",
    "print(\"Menor MSE de validação:\", mse_val)\n",
    "print(\"Comparação entre os dois:\", mse_train == mse_val)"
   ]
  },
  {
   "cell_type": "markdown",
   "metadata": {},
   "source": [
    "Somente para informação: Apesar de ambos os modelos(treino e validação) terem o numero de steps otimo = 5000, os MSEs estão bem diferentes."
   ]
  },
  {
   "cell_type": "code",
   "execution_count": 60,
   "metadata": {},
   "outputs": [
    {
     "name": "stdout",
     "output_type": "stream",
     "text": [
      "Fatoração concluída. Tempo aproximado: 2 minuto(s).\n"
     ]
    }
   ],
   "source": [
    "fatTest = MatrixFactorization(dataframe = pd.DataFrame(test, columns = R.columns, index = R.index), \n",
    "                          K = 5, steps = 5000, alpha = 0.0001, beta = 0.2)\n",
    "fatTest.fit()"
   ]
  },
  {
   "cell_type": "code",
   "execution_count": 65,
   "metadata": {},
   "outputs": [
    {
     "data": {
      "image/png": "[encoded data removed]",
      "text/plain": [
       "<Figure size 1500x600 with 1 Axes>"
      ]
     },
     "metadata": {},
     "output_type": "display_data"
    }
   ],
   "source": [
    "fatTest.print_MSE_steps()"
   ]
  },
  {
   "cell_type": "code",
   "execution_count": 66,
   "metadata": {},
   "outputs": [
    {
     "data": {
      "text/plain": [
       "True"
      ]
     },
     "execution_count": 66,
     "metadata": {},
     "output_type": "execute_result"
    }
   ],
   "source": [
    "mse_test = fatTest.lista_erro_step[len(fatTest.lista_erro_step)-1]\n",
    "mse_min = np.min(fatTest.lista_erro_step)\n",
    "\n",
    "mse_test == mse_min"
   ]
  },
  {
   "cell_type": "code",
   "execution_count": 67,
   "metadata": {},
   "outputs": [
    {
     "data": {
      "text/plain": [
       "77.60691679142576"
      ]
     },
     "execution_count": 67,
     "metadata": {},
     "output_type": "execute_result"
    }
   ],
   "source": [
    "mse_test"
   ]
  },
  {
   "cell_type": "code",
   "execution_count": 69,
   "metadata": {},
   "outputs": [
    {
     "name": "stdout",
     "output_type": "stream",
     "text": [
      "Menor MSE de treino: 3907.0015721022273\n",
      "Menor MSE de validação: 66.46170893682256\n",
      "Menor MSE de teste: 77.60691679142576\n"
     ]
    }
   ],
   "source": [
    "print(\"Menor MSE de treino:\", mse_train)\n",
    "print(\"Menor MSE de validação:\", mse_val)\n",
    "print(\"Menor MSE de teste:\", mse_test)"
   ]
  },
  {
   "cell_type": "markdown",
   "metadata": {},
   "source": [
    "Conclusão: Apesar do MSE estar bem diferente dos demais, uma coisa foi constante nos testes, número de steps = 5000 foi o menor MSE possível em ambos os modelos, o que acredito que seja um grande indicativo de que o modelo não está \"overfittando\". \n",
    "Uma explicação que eu possa dar para o MSE de treino estar tao alto em relação aos demais é que diferente do MSE de regressão que faz a media dos valores((y_real - y_pred)/n), o MSE desse modelo faz somente a diferença da matriz real - matriz resultante, entao para explicar isso, precisamos elencar 2 pontos: \n",
    "\n",
    "1- Na divisão de treino/validação/teste é retirado valores das matrizes. \n",
    "\n",
    "2- Quanto mais valores na matriz que nao sejam zero/nan, maior vai ser o MSE. \n",
    "\n",
    "Obs: A metrica não deveria ser chamada de MSE, pois não é feito a media dos valores. Acredito que chama-la somente de ES seria mais apropriado, ja que o M vem de mean/media.\n",
    "\n",
    "A diferença no tempo de execução do treino ser maior que validação/teste é devido o algoritmo não fazer varios calculos quando o valor da matriz real ser 0, sendo um deles a multiplicação de matrizes, altamente custosa para o processador."
   ]
  },
  {
   "cell_type": "code",
   "execution_count": 75,
   "metadata": {},
   "outputs": [
    {
     "name": "stdout",
     "output_type": "stream",
     "text": [
      "Fatoração concluída. Tempo aproximado: 14 minuto(s).\n"
     ]
    }
   ],
   "source": [
    "fat_ratings = MatrixFactorization(dataframe = pd.DataFrame(R, columns = R.columns, index = R.index), \n",
    "                          K = 5, steps = 5000, alpha = 0.0001, beta = 0.2)\n",
    "fat_ratings.fit()"
   ]
  },
  {
   "cell_type": "code",
   "execution_count": 81,
   "metadata": {},
   "outputs": [
    {
     "data": {
      "image/png": "[encoded data removed]",
      "text/plain": [
       "<Figure size 1500x600 with 1 Axes>"
      ]
     },
     "metadata": {},
     "output_type": "display_data"
    }
   ],
   "source": [
    "fat_ratings.print_MSE_steps()"
   ]
  },
  {
   "cell_type": "code",
   "execution_count": 78,
   "metadata": {},
   "outputs": [
    {
     "data": {
      "text/plain": [
       "True"
      ]
     },
     "execution_count": 78,
     "metadata": {},
     "output_type": "execute_result"
    }
   ],
   "source": [
    "mse_ratings = fat_ratings.lista_erro_step[len(fat_ratings.lista_erro_step)-1]\n",
    "mse_min = np.min(fat_ratings.lista_erro_step)\n",
    "\n",
    "mse_ratings == mse_min"
   ]
  },
  {
   "cell_type": "code",
   "execution_count": 80,
   "metadata": {},
   "outputs": [
    {
     "name": "stdout",
     "output_type": "stream",
     "text": [
      "Menor MSE da matriz R principal: 4908.417312858031\n",
      "Menor MSE de treino: 3907.0015721022273\n",
      "Menor MSE de validação: 66.46170893682256\n",
      "Menor MSE de teste: 77.60691679142576\n"
     ]
    }
   ],
   "source": [
    "print(\"Menor MSE da matriz R principal:\", mse_ratings)\n",
    "print(\"Menor MSE de treino:\", mse_train)\n",
    "print(\"Menor MSE de validação:\", mse_val)\n",
    "print(\"Menor MSE de teste:\", mse_test)"
   ]
  },
  {
   "cell_type": "markdown",
   "metadata": {},
   "source": [
    "Usando a matriz R no modelo é possível ver a prova de todos os pontos levandos, como: número de steps ótimo, valor do MSE em relação aos demais modelos e tempo de execução.\n",
    "\n",
    "Qualquer duvida, fico a disposição. Obrigado."
   ]
  },
  {
   "cell_type": "code",
   "execution_count": null,
   "metadata": {},
   "outputs": [],
   "source": []
  }
 ],
 "metadata": {
  "kernelspec": {
   "display_name": "Python 3 (ipykernel)",
   "language": "python",
   "name": "python3"
  },
  "language_info": {
   "codemirror_mode": {
    "name": "ipython",
    "version": 3
   },
   "file_extension": ".py",
   "mimetype": "text/x-python",
   "name": "python",
   "nbconvert_exporter": "python",
   "pygments_lexer": "ipython3",
   "version": "3.9.13"
  }
 },
 "nbformat": 4,
 "nbformat_minor": 2
}
